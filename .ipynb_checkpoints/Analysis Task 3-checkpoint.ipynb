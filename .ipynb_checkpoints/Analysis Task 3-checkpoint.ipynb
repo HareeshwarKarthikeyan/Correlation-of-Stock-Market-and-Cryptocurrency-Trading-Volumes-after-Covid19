{
 "cells": [
  {
   "cell_type": "code",
   "execution_count": null,
   "metadata": {},
   "outputs": [],
   "source": [
    "# ANALYSIS TASK 3\n",
    "#  Is there any correlation in the time series data to see if the crypto trends reflect the stock trends in price and volume changes?"
   ]
  },
  {
   "cell_type": "code",
   "execution_count": 1,
   "metadata": {},
   "outputs": [
    {
     "name": "stdout",
     "output_type": "stream",
     "text": [
      "+----------+-------------------+------------------+-------------------+------------------+--------------------+-------------------+-------------------+-------------------+\n",
      "|       _c0|                _c1|               _c2|                _c3|               _c4|                 _c5|                _c6|                _c7|                _c8|\n",
      "+----------+-------------------+------------------+-------------------+------------------+--------------------+-------------------+-------------------+-------------------+\n",
      "|02-07-2018|  5.121125072620959| 9.193665598572519|-1.4197329157191518|               0.0|   -6.92142945367664|                0.0|-1.3828243249559322|                0.0|\n",
      "|03-07-2018|-1.7263876931070241|  3.88579704445608|-0.7503701677520215|-34.69465041770667|-0.38754218086889713|-31.618496889332604|-1.4233110883018818| -32.83890509077797|\n",
      "|05-07-2018|-0.7984669906309387| 5.925269446030441| 1.2241598859767095| 70.59531435527903|  0.9503111182226929|  58.35068850659227|  1.615999192251064|  77.31397164561653|\n",
      "|06-07-2018|-0.6435487855691865|-12.91041562423435|  1.745983843588868| 25.99901405601902|  1.0062455628507367| 27.340063807157787| 1.5456087189055587|-6.8313403065421054|\n",
      "|09-07-2018| -1.453540445159325|-5.414889467143977| 0.7354070539389318| 13.00388006337085|  0.8477661177601469| 15.089087671577163| 0.7502420195560021|  8.630149015982997|\n",
      "+----------+-------------------+------------------+-------------------+------------------+--------------------+-------------------+-------------------+-------------------+\n",
      "only showing top 5 rows\n",
      "\n"
     ]
    }
   ],
   "source": [
    "from pyspark import SparkContext\n",
    "from pyspark.sql import SQLContext\n",
    "sc = SparkContext.getOrCreate()\n",
    "sqlContext = SQLContext(sc)\n",
    "data_main = sqlContext.read.csv('data.csv',header=False)\n",
    "data_main.show(5)\n",
    "# Order of columns\n",
    "# 'DATE', 'C_PCP', 'C_TMVCP', 'N_PCP', 'N_TMVCP', 'SP_PCP', 'SP_TMVCP', 'NT_PCP', 'NT_TMVCP'"
   ]
  },
  {
   "cell_type": "code",
   "execution_count": 2,
   "metadata": {},
   "outputs": [],
   "source": [
    "data_main = data_main.rdd.map(lambda x: (x[0],float(x[1]),float(x[2]),float(x[3]),float(x[4]),float(x[5]),float(x[6]),float(x[7]),float(x[8])) )"
   ]
  },
  {
   "cell_type": "code",
   "execution_count": null,
   "metadata": {},
   "outputs": [],
   "source": [
    "# cross correlation - time lagged\n",
    "# price change percent\n",
    "# crypto and nasdaq100\n",
    "\n",
    "data1 = data_df.rdd.map(lambda x: (x[0],x[1],x[3]))\n",
    "data1_df = data1.toDF(('DATE','C_PCP','N_PCP'))\n"
   ]
  },
  {
   "cell_type": "code",
   "execution_count": null,
   "metadata": {},
   "outputs": [],
   "source": []
  },
  {
   "cell_type": "code",
   "execution_count": null,
   "metadata": {},
   "outputs": [],
   "source": []
  },
  {
   "cell_type": "code",
   "execution_count": null,
   "metadata": {},
   "outputs": [],
   "source": []
  },
  {
   "cell_type": "code",
   "execution_count": null,
   "metadata": {},
   "outputs": [],
   "source": []
  },
  {
   "cell_type": "code",
   "execution_count": null,
   "metadata": {},
   "outputs": [],
   "source": []
  },
  {
   "cell_type": "code",
   "execution_count": null,
   "metadata": {},
   "outputs": [],
   "source": []
  }
 ],
 "metadata": {
  "kernelspec": {
   "display_name": "Python 3",
   "language": "python",
   "name": "python3"
  },
  "language_info": {
   "codemirror_mode": {
    "name": "ipython",
    "version": 3
   },
   "file_extension": ".py",
   "mimetype": "text/x-python",
   "name": "python",
   "nbconvert_exporter": "python",
   "pygments_lexer": "ipython3",
   "version": "3.7.0"
  }
 },
 "nbformat": 4,
 "nbformat_minor": 4
}
