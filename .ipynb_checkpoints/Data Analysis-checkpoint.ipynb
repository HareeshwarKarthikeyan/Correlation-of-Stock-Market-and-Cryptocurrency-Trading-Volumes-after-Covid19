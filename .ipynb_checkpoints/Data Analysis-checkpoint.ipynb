{
 "cells": [
  {
   "cell_type": "code",
   "execution_count": null,
   "metadata": {},
   "outputs": [],
   "source": [
    "# Computing avg price as average of open and close price\n",
    "def avg_price(open_price,close_price):\n",
    "    return (float(open_price)+float(close_price))/2\n",
    "\n",
    "# Computing total traded monetary volume(TMV) as volume * avg price\n",
    "def traded_monetary_volume(volume,open_price,close_price):\n",
    "    return float(volume)*avg_price(open_price,close_price)\n",
    "\n",
    "# Computing %price change as 100*(current close price - previous record's close price)/previous record's close price\n",
    "def percent_price_change(prev_close,curr_close):\n",
    "    prev_close = float(prev_close)\n",
    "    curr_close = float(curr_close)\n",
    "    return 100*(curr_close-prev_close)/prev_close\n",
    "\n",
    "# Computing %volume change similarly\n",
    "def percent_tmv_change(prev_tmv,curr_tmv):\n",
    "    prev_tmv = float(prev_tmv)\n",
    "    curr_tmv = float(curr_tmv)\n",
    "    return 100*(curr_tmv-prev_tmv)/prev_tmv"
   ]
  },
  {
   "cell_type": "code",
   "execution_count": 103,
   "metadata": {},
   "outputs": [
    {
     "name": "stdout",
     "output_type": "stream",
     "text": [
      "+---+---+--------+---+-------------------+------------------+------------------+-------------+-----------------+----------------+----+\n",
      "|_c0|_c1|     _c2|_c3|                _c4|               _c5|               _c6|          _c7|              _c8|             _c9|_c10|\n",
      "+---+---+--------+---+-------------------+------------------+------------------+-------------+-----------------+----------------+----+\n",
      "|  0|  1|Polkadot|DOT|2020-08-21 23:59:59|     3.09009266777|2.7309186839899997|2.89692328556|     2.8750282692| 49313136.825242| 0.0|\n",
      "|  1|  2|Polkadot|DOT|2020-08-22 23:59:59|4.5106133890099995|2.8167618533599996|2.87857004326|4.484690143430001| 485801095.84575| 0.0|\n",
      "|  2|  3|Polkadot|DOT|2020-08-23 23:59:59|     4.48705836489|3.7162710539199995|4.48705836489|    3.96706569209|320749483.243806| 0.0|\n",
      "|  3|  4|Polkadot|DOT|2020-08-24 23:59:59|     4.78315823996|3.8126695191300004|3.98741349226|    4.60261415178|407690170.881454| 0.0|\n",
      "|  4|  5|Polkadot|DOT|2020-08-25 23:59:59| 5.760775350149999|     4.50122274573|4.58495324614|5.523393007359999|898847538.456415| 0.0|\n",
      "+---+---+--------+---+-------------------+------------------+------------------+-------------+-----------------+----------------+----+\n",
      "only showing top 5 rows\n",
      "\n"
     ]
    }
   ],
   "source": [
    "from pyspark import SparkContext\n",
    "from pyspark.sql import SQLContext\n",
    "sc = SparkContext.getOrCreate()\n",
    "sqlContext = SQLContext(sc)\n",
    "df = sqlContext.read.csv('crypto10_final.csv',header=False)\n",
    "df.show(5)"
   ]
  },
  {
   "cell_type": "code",
   "execution_count": 104,
   "metadata": {},
   "outputs": [],
   "source": [
    "# order of columns in original dataframe\n",
    "# index, sno, name, symbol, date, high, low, open, close, volume, marketcap\n",
    "\n",
    "# new data with date, symbol, open, close, avg_price and traded monetary volume\n",
    "# ordered for each currency by date\n",
    "crypto_data = df.rdd.map(lambda x: (x[4],x[3],x[7],x[8], \\\n",
    "                                    avg_price(x[7],x[8]), \\\n",
    "                                    traded_monetary_volume(x[9],x[7],x[8]), \\\n",
    "                                    )).sortBy(lambda x: (x[1],x[0]) )\n",
    "df1 = sqlContext.createDataFrame(crypto_data,['date', 'symbol', 'open', 'close', 'avg_price', 'tmv'])\n",
    "df1.show(5)"
   ]
  },
  {
   "cell_type": "code",
   "execution_count": 106,
   "metadata": {},
   "outputs": [],
   "source": [
    "# Using window function to find the running difference for price and tmv from the previous record \n",
    "from pyspark.sql import functions as F\n",
    "from pyspark.sql.window import Window\n",
    "my_window = Window.partitionBy().orderBy('symbol')\n",
    "df1 = df1.withColumn(\"prev_symbol\", F.lag(df1.symbol).over(my_window))\n",
    "df1 = df1.withColumn(\"prev_close\", F.lag(df1.close).over(my_window))\n",
    "df1 = df1.withColumn(\"prev_tmv\", F.lag(df1.tmv).over(my_window))\n",
    "df1.show(5)"
   ]
  },
  {
   "cell_type": "code",
   "execution_count": 108,
   "metadata": {},
   "outputs": [
    {
     "name": "stdout",
     "output_type": "stream",
     "text": [
      "+-------------------+------+--------------------+-------------------+\n",
      "|               date|symbol|price_change_percent| tmv_change_percent|\n",
      "+-------------------+------+--------------------+-------------------+\n",
      "|2018-07-01 23:59:59|   ADA|  2.8525101468518357|                0.0|\n",
      "|2018-07-02 23:59:59|   ADA|  11.300354998634138|  59.68572995197603|\n",
      "|2018-07-03 23:59:59|   ADA|  -4.816210574102062|-31.255423960496184|\n",
      "|2018-07-04 23:59:59|   ADA|  0.2024472898194967| -22.10059289132683|\n",
      "|2018-07-05 23:59:59|   ADA| -1.3506891984545462|-14.863575086983603|\n",
      "+-------------------+------+--------------------+-------------------+\n",
      "only showing top 5 rows\n",
      "\n"
     ]
    }
   ],
   "source": [
    "# calculating daily price change\n",
    "# condition that the previous value be for the same symbol\n",
    "crypto_index = df1.rdd.map(lambda x: (x[0],x[1], \\\n",
    "                            float(percent_price_change(x[7],x[3]) if not(x[6]!=x[1] or x[7] is None) else percent_price_change(x[2],x[3])), \\\n",
    "                            float(percent_tmv_change(x[8],x[5]) if not(x[6]!=x[1] or  x[8] is None) else 0)))\n",
    "crypto_index_df = crypto_index.toDF(('date', 'symbol', 'price_change_percent', 'tmv_change_percent'))\n",
    "crypto_index_df.show(5)"
   ]
  },
  {
   "cell_type": "code",
   "execution_count": 112,
   "metadata": {},
   "outputs": [
    {
     "name": "stdout",
     "output_type": "stream",
     "text": [
      "+-------------------+------------------------+----------------------+\n",
      "|               date|avg_price_change_percent|avg_tmv_change_percent|\n",
      "+-------------------+------------------------+----------------------+\n",
      "|2018-07-01 23:59:59|     -0.3545608063329723|                   0.0|\n",
      "|2018-07-02 23:59:59|       5.121125072620959|     9.193665598572519|\n",
      "|2018-07-03 23:59:59|     -1.7263876931070241|      3.88579704445608|\n",
      "|2018-07-04 23:59:59|      0.4605982027758544|   -17.906456882074515|\n",
      "|2018-07-05 23:59:59|     -0.7984669906309387|     5.925269446030441|\n",
      "+-------------------+------------------------+----------------------+\n",
      "only showing top 5 rows\n",
      "\n"
     ]
    }
   ],
   "source": [
    "# group by date and find the avg changes in price and volume\n",
    "crypto_index_final = crypto_index.map(lambda x: (x[0],(x[2],x[3],1)) ) \\\n",
    "            .reduceByKey(lambda a,b: (a[0]+b[0],a[1]+b[1],a[2]+b[2]) ) \\\n",
    "            .mapValues(lambda y: (y[0]/y[2],y[1]/y[2])) \\\n",
    "            .map(lambda x: (x[0],x[1][0],x[1][1]))\n",
    "crypto_index_final_df = crypto_index_final.toDF(('date', 'avg_price_change_percent', 'avg_tmv_change_percent'))\n",
    "crypto_index_final_df.show(5)"
   ]
  },
  {
   "cell_type": "code",
   "execution_count": 136,
   "metadata": {},
   "outputs": [
    {
     "name": "stdout",
     "output_type": "stream",
     "text": [
      "+----+----+----------+------------------+------------------+--------+-----------------+------------------+------------------+----+\n",
      "| _c0| _c1|       _c2|               _c3|               _c4|     _c5|              _c6|               _c7|               _c8| _c9|\n",
      "+----+----+----------+------------------+------------------+--------+-----------------+------------------+------------------+----+\n",
      "|7148|7148|02-07-2018| 42.20000076293945|42.560001373291016|21810900|42.83000183105469|42.810001373291016| 38.80120086669922|CSCO|\n",
      "|7149|7149|03-07-2018| 42.61999893188477| 42.93999862670898|13474700|43.22999954223633| 42.66999816894531|38.674312591552734|CSCO|\n",
      "|7150|7150|05-07-2018|41.959999084472656|42.560001373291016|18118700|42.63999938964844|42.560001373291016| 38.87525939941406|CSCO|\n",
      "|7151|7151|06-07-2018|42.310001373291016| 42.38999938964844|20258300|42.88000106811523|42.709999084472656| 39.01226425170898|CSCO|\n",
      "|7152|7152|09-07-2018| 42.36000061035156|             42.75|23210000|42.77999877929688| 42.66999816894531| 38.97573471069336|CSCO|\n",
      "+----+----+----------+------------------+------------------+--------+-----------------+------------------+------------------+----+\n",
      "only showing top 5 rows\n",
      "\n",
      "+----------+------+-----------------+-----------------+-----------------+--------------------+\n",
      "|      date|symbol|             open|            close|        avg_price|                 tmv|\n",
      "+----------+------+-----------------+-----------------+-----------------+--------------------+\n",
      "|02-07-2018|  AAPL|45.95500183105469|45.17720413208008|45.56610298156738| 3.231784967188263E9|\n",
      "|03-07-2018|  AAPL| 46.9474983215332|  44.390380859375| 45.6689395904541|2.5492036727874756E9|\n",
      "|05-07-2018|  AAPL|46.31499862670898|44.74758529663086|45.53129196166992| 3.024042711959839E9|\n",
      "|06-07-2018|  AAPL|46.35499954223633|45.36787414550781|45.86143684387207|3.2075855820098877E9|\n",
      "|09-07-2018|  AAPL|           47.375| 45.9978141784668| 46.6864070892334| 3.689458681196594E9|\n",
      "+----------+------+-----------------+-----------------+-----------------+--------------------+\n",
      "only showing top 5 rows\n",
      "\n",
      "+----------+------+--------------------+-------------------+\n",
      "|      date|symbol|price_change_percent| tmv_change_percent|\n",
      "+----------+------+--------------------+-------------------+\n",
      "|02-07-2018|  AAPL| -1.6925202219206583|                0.0|\n",
      "|03-07-2018|  AAPL| -1.7416378189423178|-21.120875965787132|\n",
      "|05-07-2018|  AAPL|  0.8046888319959521|   18.6269557133166|\n",
      "|06-07-2018|  AAPL|   1.386195131569828|  6.069453626569227|\n",
      "|09-07-2018|  AAPL|  1.3885156508294518| 15.022922596028215|\n",
      "+----------+------+--------------------+-------------------+\n",
      "only showing top 5 rows\n",
      "\n",
      "+----------+------------------------+----------------------+\n",
      "|      date|avg_price_change_percent|avg_tmv_change_percent|\n",
      "+----------+------------------------+----------------------+\n",
      "|02-07-2018|     -1.4197329157191518|                   0.0|\n",
      "|03-07-2018|     -0.7503701677520215|    -34.69465041770667|\n",
      "|05-07-2018|      1.2241598859767095|     70.59531435527903|\n",
      "|06-07-2018|       1.745983843588868|     25.99901405601902|\n",
      "|09-07-2018|      0.7354070539389318|     13.00388006337085|\n",
      "+----------+------------------------+----------------------+\n",
      "only showing top 5 rows\n",
      "\n"
     ]
    }
   ],
   "source": [
    "# nasdaq100\n",
    "df = sqlContext.read.csv('nasdaq100_final.csv',header=False)\n",
    "df.show(5)\n",
    "\n",
    "# order of columns in original dataframe\n",
    "# reset_index, index, date, low, open, volume, high, close, adjusted_close\n",
    "\n",
    "# new data with date, symbol, open, adjusted_close, avg_price and traded monetary volume\n",
    "# ordered for each stock (already ordered by date)\n",
    "stock_data = df.rdd.map(lambda x: (x[2],x[9],x[4],x[8], \\\n",
    "                                    avg_price(x[4],x[8]), \\\n",
    "                                    traded_monetary_volume(x[5],x[4],x[8]), \\\n",
    "                                    )).sortBy(lambda x: (x[1]) )\n",
    "df1 = sqlContext.createDataFrame(stock_data,['date', 'symbol', 'open', 'close', 'avg_price', 'tmv'])\n",
    "df1.show(5)\n",
    "# Using window function to find the running difference for price and tmv from the previous record \n",
    "my_window = Window.partitionBy().orderBy('symbol')\n",
    "df1 = df1.withColumn(\"prev_symbol\", F.lag(df1.symbol).over(my_window))\n",
    "df1 = df1.withColumn(\"prev_close\", F.lag(df1.close).over(my_window))\n",
    "df1 = df1.withColumn(\"prev_tmv\", F.lag(df1.tmv).over(my_window))\n",
    "# calculating daily price change\n",
    "# condition that the previous value be for the same symbol\n",
    "stock_index = df1.rdd.map(lambda x: (x[0],x[1], \\\n",
    "                            float(percent_price_change(x[7],x[3]) if not(x[6]!=x[1] or x[7] is None) else percent_price_change(x[2],x[3])), \\\n",
    "                            float(percent_tmv_change(x[8],x[5]) if not(x[6]!=x[1] or  x[8] is None) else 0)))\n",
    "stock_index_df = stock_index.toDF(('date', 'symbol', 'price_change_percent', 'tmv_change_percent'))\n",
    "stock_index_df.show(5)\n",
    "# group by date and find the avg changes in price and volume\n",
    "stock_index_final = stock_index.map(lambda x: (x[0],(x[2],x[3],1)) ) \\\n",
    "            .reduceByKey(lambda a,b: (a[0]+b[0],a[1]+b[1],a[2]+b[2]) ) \\\n",
    "            .mapValues(lambda y: (y[0]/y[2],y[1]/y[2])) \\\n",
    "            .map(lambda x: (x[0],x[1][0],x[1][1]))\n",
    "nasdaq100_df = stock_index_final.toDF(('date', 'avg_price_change_percent', 'avg_tmv_change_percent'))\n",
    "nasdaq100_df.show(5)"
   ]
  },
  {
   "cell_type": "code",
   "execution_count": 137,
   "metadata": {},
   "outputs": [
    {
     "name": "stdout",
     "output_type": "stream",
     "text": [
      "+----+----+----------+------------------+------------------+--------+-----------------+------------------+------------------+----+\n",
      "| _c0| _c1|       _c2|               _c3|               _c4|     _c5|              _c6|               _c7|               _c8| _c9|\n",
      "+----+----+----------+------------------+------------------+--------+-----------------+------------------+------------------+----+\n",
      "|7148|7148|02-07-2018| 42.20000076293945|42.560001373291016|21810900|42.83000183105469|42.810001373291016| 38.54083633422852|CSCO|\n",
      "|7149|7149|03-07-2018| 42.61999893188477| 42.93999862670898|13474700|43.22999954223633| 42.66999816894531|38.414798736572266|CSCO|\n",
      "|7150|7150|05-07-2018|41.959999084472656|42.560001373291016|18118700|42.63999938964844|42.560001373291016|38.614402770996094|CSCO|\n",
      "|7151|7151|06-07-2018|42.310001373291016| 42.38999938964844|20258300|42.88000106811523|42.709999084472656|    38.75048828125|CSCO|\n",
      "|7152|7152|09-07-2018| 42.36000061035156|             42.75|23210000|42.77999877929688| 42.66999816894531| 38.71419906616211|CSCO|\n",
      "+----+----+----------+------------------+------------------+--------+-----------------+------------------+------------------+----+\n",
      "only showing top 5 rows\n",
      "\n",
      "+----------+------+-----------------+-----------------+------------------+--------------------+\n",
      "|      date|symbol|             open|            close|         avg_price|                 tmv|\n",
      "+----------+------+-----------------+-----------------+------------------+--------------------+\n",
      "|02-07-2018|  AAPL|45.95500183105469|45.17720031738281| 45.56610107421875|3.2317848319091797E9|\n",
      "|03-07-2018|  AAPL| 46.9474983215332|  44.390380859375|  45.6689395904541|2.5492036727874756E9|\n",
      "|05-07-2018|  AAPL|46.31499862670898|44.74757766723633|45.531288146972656|3.0240424585998535E9|\n",
      "|06-07-2018|  AAPL|46.35499954223633|45.36787796020508|  45.8614387512207| 3.207585715411377E9|\n",
      "|09-07-2018|  AAPL|           47.375|45.99781799316406| 46.68640899658203|  3.68945883192749E9|\n",
      "+----------+------+-----------------+-----------------+------------------+--------------------+\n",
      "only showing top 5 rows\n",
      "\n",
      "+----------+------+--------------------+-------------------+\n",
      "|      date|symbol|price_change_percent| tmv_change_percent|\n",
      "+----------+------+--------------------+-------------------+\n",
      "|02-07-2018|  AAPL| -1.6925285228609557|                0.0|\n",
      "|03-07-2018|  AAPL| -1.7416295221487381|-21.120872663990713|\n",
      "|05-07-2018|  AAPL|  0.8046716449514087|  18.62694577452716|\n",
      "|06-07-2018|  AAPL|  1.3862209426878696|  6.069466924631239|\n",
      "|09-07-2018|  AAPL|  1.3885155340779727| 15.022922511497482|\n",
      "+----------+------+--------------------+-------------------+\n",
      "only showing top 5 rows\n",
      "\n",
      "+----------+------------------------+----------------------+\n",
      "|      date|avg_price_change_percent|avg_tmv_change_percent|\n",
      "+----------+------------------------+----------------------+\n",
      "|02-07-2018|       -6.92142945367664|                   0.0|\n",
      "|03-07-2018|    -0.38754218086889713|   -31.618496889332604|\n",
      "|05-07-2018|      0.9503111182226929|     58.35068850659227|\n",
      "|06-07-2018|      1.0062455628507367|    27.340063807157787|\n",
      "|09-07-2018|      0.8477661177601469|    15.089087671577163|\n",
      "+----------+------------------------+----------------------+\n",
      "only showing top 5 rows\n",
      "\n"
     ]
    }
   ],
   "source": [
    "# sp100\n",
    "df = sqlContext.read.csv('sp100_final.csv',header=False)\n",
    "df.show(5)\n",
    "\n",
    "# order of columns in original dataframe\n",
    "# reset_index, index, date, low, open, volume, high, close, adjusted_close\n",
    "\n",
    "# new data with date, symbol, open, adjusted_close, avg_price and traded monetary volume\n",
    "# ordered for each stock (already ordered by date)\n",
    "stock_data = df.rdd.map(lambda x: (x[2],x[9],x[4],x[8], \\\n",
    "                                    avg_price(x[4],x[8]), \\\n",
    "                                    traded_monetary_volume(x[5],x[4],x[8]), \\\n",
    "                                    )).sortBy(lambda x: (x[1]) )\n",
    "df1 = sqlContext.createDataFrame(stock_data,['date', 'symbol', 'open', 'close', 'avg_price', 'tmv'])\n",
    "df1.show(5)\n",
    "# Using window function to find the running difference for price and tmv from the previous record \n",
    "my_window = Window.partitionBy().orderBy('symbol')\n",
    "df1 = df1.withColumn(\"prev_symbol\", F.lag(df1.symbol).over(my_window))\n",
    "df1 = df1.withColumn(\"prev_close\", F.lag(df1.close).over(my_window))\n",
    "df1 = df1.withColumn(\"prev_tmv\", F.lag(df1.tmv).over(my_window))\n",
    "# calculating daily price change\n",
    "# condition that the previous value be for the same symbol\n",
    "stock_index = df1.rdd.map(lambda x: (x[0],x[1], \\\n",
    "                            float(percent_price_change(x[7],x[3]) if not(x[6]!=x[1] or x[7] is None) else percent_price_change(x[2],x[3])), \\\n",
    "                            float(percent_tmv_change(x[8],x[5]) if not(x[6]!=x[1] or  x[8] is None) else 0)))\n",
    "stock_index_df = stock_index.toDF(('date', 'symbol', 'price_change_percent', 'tmv_change_percent'))\n",
    "stock_index_df.show(5)\n",
    "# group by date and find the avg changes in price and volume\n",
    "stock_index_final = stock_index.map(lambda x: (x[0],(x[2],x[3],1)) ) \\\n",
    "            .reduceByKey(lambda a,b: (a[0]+b[0],a[1]+b[1],a[2]+b[2]) ) \\\n",
    "            .mapValues(lambda y: (y[0]/y[2],y[1]/y[2])) \\\n",
    "            .map(lambda x: (x[0],x[1][0],x[1][1]))\n",
    "sp100_df = stock_index_final.toDF(('date', 'avg_price_change_percent', 'avg_tmv_change_percent'))\n",
    "sp100_df.show(5)"
   ]
  },
  {
   "cell_type": "code",
   "execution_count": 138,
   "metadata": {},
   "outputs": [
    {
     "name": "stdout",
     "output_type": "stream",
     "text": [
      "+----+----+----------+-----------------+------------------+-------+------------------+------------------+-----------------+----+\n",
      "| _c0| _c1|       _c2|              _c3|               _c4|    _c5|               _c6|               _c7|              _c8| _c9|\n",
      "+----+----+----------+-----------------+------------------+-------+------------------+------------------+-----------------+----+\n",
      "|8524|8524|02-07-2018| 95.0500030517578| 95.45999908447266|2029100|  97.1999969482422| 97.05999755859376|92.29022979736328|SWKS|\n",
      "|8525|8525|03-07-2018| 95.3000030517578|  97.1999969482422|1060600| 97.86000061035156| 95.45999908447266|90.76885223388672|SWKS|\n",
      "|8526|8526|05-07-2018|             96.5|              96.5|2248500|             99.75| 99.66000366210938|94.76245880126952|SWKS|\n",
      "|8527|8527|06-07-2018|98.58999633789062| 99.41999816894531|1438400| 100.4499969482422|100.12999725341795| 95.2093505859375|SWKS|\n",
      "|8528|8528|09-07-2018| 99.2699966430664|100.51000213623048| 994200|100.63999938964844|100.43000030517578|95.49461364746094|SWKS|\n",
      "+----+----+----------+-----------------+------------------+-------+------------------+------------------+-----------------+----+\n",
      "only showing top 5 rows\n",
      "\n",
      "+----------+------+-----------------+-----------------+-----------------+--------------------+\n",
      "|      date|symbol|             open|            close|        avg_price|                 tmv|\n",
      "+----------+------+-----------------+-----------------+-----------------+--------------------+\n",
      "|02-07-2018|  AAPL|45.95500183105469|45.17720413208008|45.56610298156738| 3.231784967188263E9|\n",
      "|03-07-2018|  AAPL| 46.9474983215332|  44.390380859375| 45.6689395904541|2.5492036727874756E9|\n",
      "|05-07-2018|  AAPL|46.31499862670898|44.74758529663086|45.53129196166992| 3.024042711959839E9|\n",
      "|06-07-2018|  AAPL|46.35499954223633|45.36787414550781|45.86143684387207|3.2075855820098877E9|\n",
      "|09-07-2018|  AAPL|           47.375| 45.9978141784668| 46.6864070892334| 3.689458681196594E9|\n",
      "+----------+------+-----------------+-----------------+-----------------+--------------------+\n",
      "only showing top 5 rows\n",
      "\n",
      "+----------+------+--------------------+-------------------+\n",
      "|      date|symbol|price_change_percent| tmv_change_percent|\n",
      "+----------+------+--------------------+-------------------+\n",
      "|02-07-2018|  AAPL| -1.6925202219206583|                0.0|\n",
      "|03-07-2018|  AAPL| -1.7416378189423178|-21.120875965787132|\n",
      "|05-07-2018|  AAPL|  0.8046888319959521|   18.6269557133166|\n",
      "|06-07-2018|  AAPL|   1.386195131569828|  6.069453626569227|\n",
      "|09-07-2018|  AAPL|  1.3885156508294518| 15.022922596028215|\n",
      "+----------+------+--------------------+-------------------+\n",
      "only showing top 5 rows\n",
      "\n",
      "+----------+------------------------+----------------------+\n",
      "|      date|avg_price_change_percent|avg_tmv_change_percent|\n",
      "+----------+------------------------+----------------------+\n",
      "|02-07-2018|     -1.3828243249559322|                   0.0|\n",
      "|03-07-2018|     -1.4233110883018818|    -32.83890509077797|\n",
      "|05-07-2018|       1.615999192251064|     77.31397164561653|\n",
      "|06-07-2018|      1.5456087189055587|   -6.8313403065421054|\n",
      "|09-07-2018|      0.7502420195560021|     8.630149015982997|\n",
      "+----------+------------------------+----------------------+\n",
      "only showing top 5 rows\n",
      "\n"
     ]
    }
   ],
   "source": [
    "# nasdaq100Tech\n",
    "df = sqlContext.read.csv('nasdaq100Tech_final.csv',header=False)\n",
    "df.show(5)\n",
    "\n",
    "# order of columns in original dataframe\n",
    "# reset_index, index, date, low, open, volume, high, close, adjusted_close\n",
    "\n",
    "# new data with date, symbol, open, adjusted_close, avg_price and traded monetary volume\n",
    "# ordered for each stock (already ordered by date)\n",
    "stock_data = df.rdd.map(lambda x: (x[2],x[9],x[4],x[8], \\\n",
    "                                    avg_price(x[4],x[8]), \\\n",
    "                                    traded_monetary_volume(x[5],x[4],x[8]), \\\n",
    "                                    )).sortBy(lambda x: (x[1]) )\n",
    "df1 = sqlContext.createDataFrame(stock_data,['date', 'symbol', 'open', 'close', 'avg_price', 'tmv'])\n",
    "df1.show(5)\n",
    "# Using window function to find the running difference for price and tmv from the previous record \n",
    "my_window = Window.partitionBy().orderBy('symbol')\n",
    "df1 = df1.withColumn(\"prev_symbol\", F.lag(df1.symbol).over(my_window))\n",
    "df1 = df1.withColumn(\"prev_close\", F.lag(df1.close).over(my_window))\n",
    "df1 = df1.withColumn(\"prev_tmv\", F.lag(df1.tmv).over(my_window))\n",
    "# calculating daily price change\n",
    "# condition that the previous value be for the same symbol\n",
    "stock_index = df1.rdd.map(lambda x: (x[0],x[1], \\\n",
    "                            float(percent_price_change(x[7],x[3]) if not(x[6]!=x[1] or x[7] is None) else percent_price_change(x[2],x[3])), \\\n",
    "                            float(percent_tmv_change(x[8],x[5]) if not(x[6]!=x[1] or  x[8] is None) else 0)))\n",
    "stock_index_df = stock_index.toDF(('date', 'symbol', 'price_change_percent', 'tmv_change_percent'))\n",
    "stock_index_df.show(5)\n",
    "# group by date and find the avg changes in price and volume\n",
    "stock_index_final = stock_index.map(lambda x: (x[0],(x[2],x[3],1)) ) \\\n",
    "            .reduceByKey(lambda a,b: (a[0]+b[0],a[1]+b[1],a[2]+b[2]) ) \\\n",
    "            .mapValues(lambda y: (y[0]/y[2],y[1]/y[2])) \\\n",
    "            .map(lambda x: (x[0],x[1][0],x[1][1]))\n",
    "nasdaq100Tech_df = stock_index_final.toDF(('date', 'avg_price_change_percent', 'avg_tmv_change_percent'))\n",
    "nasdaq100Tech_df.show(5)"
   ]
  },
  {
   "cell_type": "code",
   "execution_count": 156,
   "metadata": {},
   "outputs": [
    {
     "name": "stdout",
     "output_type": "stream",
     "text": [
      "+----------+------------------------+----------------------+\n",
      "|      date|avg_price_change_percent|avg_tmv_change_percent|\n",
      "+----------+------------------------+----------------------+\n",
      "|01-07-2018|     -0.3545608063329723|                   0.0|\n",
      "|02-07-2018|       5.121125072620959|     9.193665598572519|\n",
      "|03-07-2018|     -1.7263876931070241|      3.88579704445608|\n",
      "|04-07-2018|      0.4605982027758544|   -17.906456882074515|\n",
      "|05-07-2018|     -0.7984669906309387|     5.925269446030441|\n",
      "+----------+------------------------+----------------------+\n",
      "only showing top 5 rows\n",
      "\n"
     ]
    }
   ],
   "source": [
    "# reformatting the date column in crypto index to match the style of the stocks index\n",
    "# 2018-07-01 23:59:59\n",
    "def reformat_date(date_time_str):\n",
    "    from datetime import datetime\n",
    "    date = datetime.strptime(date_time_str, '%Y-%m-%d %H:%M:%S')\n",
    "    string = date.strftime('%d-%m-%Y')\n",
    "    return string\n",
    "    \n",
    "crypto10 = crypto_index_final_df.rdd.map(lambda x: (reformat_date(x[0]),x[1],x[2]))\n",
    "crypto10_df = crypto10.toDF(('date', 'avg_price_change_percent', 'avg_tmv_change_percent'))\n",
    "crypto10_df.show(5)"
   ]
  },
  {
   "cell_type": "code",
   "execution_count": 152,
   "metadata": {},
   "outputs": [
    {
     "name": "stdout",
     "output_type": "stream",
     "text": [
      "756\n",
      "True\n"
     ]
    }
   ],
   "source": [
    "\n",
    "# checking if we have the same dates across all stock indices\n",
    "dates = nasdaq100_df.rdd.map(lambda x: x[0]).collect()\n",
    "a = set(nasdaq100_df.rdd.map(lambda x: x[0]).collect())\n",
    "b = set(sp100_df.rdd.map(lambda x: x[0]).collect())\n",
    "c = set(nasdaq100Tech_df.rdd.map(lambda x: x[0]).collect())\n",
    "print(len(a))\n",
    "print(a==c and a==b and a==b)\n",
    "# crypto10 = crypto10_df.rdd.filter(lambda x: x[0] in dates)\n",
    "# crypto10_df = crypto10.toDF(('date', 'avg_price_change_percent', 'avg_tmv_change_percent'))"
   ]
  },
  {
   "cell_type": "code",
   "execution_count": 154,
   "metadata": {},
   "outputs": [
    {
     "name": "stdout",
     "output_type": "stream",
     "text": [
      "+----------+------------------------+----------------------+\n",
      "|      date|avg_price_change_percent|avg_tmv_change_percent|\n",
      "+----------+------------------------+----------------------+\n",
      "|02-07-2018|       5.121125072620959|     9.193665598572519|\n",
      "|03-07-2018|     -1.7263876931070241|      3.88579704445608|\n",
      "|05-07-2018|     -0.7984669906309387|     5.925269446030441|\n",
      "|06-07-2018|     -0.6435487855691865|    -12.91041562423435|\n",
      "|09-07-2018|      -1.453540445159325|    -5.414889467143977|\n",
      "+----------+------------------------+----------------------+\n",
      "only showing top 5 rows\n",
      "\n"
     ]
    }
   ],
   "source": [
    "crypto10_df.show(5)"
   ]
  },
  {
   "cell_type": "code",
   "execution_count": 155,
   "metadata": {},
   "outputs": [],
   "source": [
    "# Final Data Frames for Analysis\n",
    "# nasdaq100_df, sp100_df, nasdaq100Tech_df, crypto10_df\n",
    "\n",
    "# Joining the datasets on the date column (inner join)\n",
    "# using sparksql\n",
    "# weekends and holidays dont have stock market data to relate the crypto currency data with\n",
    "# selecting only those dates that are also in the stock market data\n",
    "# leaving out the rest of the dates in the crypto would not be an issue as we are looking into the daily trading trends\n",
    "\n",
    "# pcp columns denote the daily average price change percentage for each index\n",
    "# tmvcp columns denote the daily average tmv price chance percentage for each index\n",
    "\n",
    "s\n",
    "\n"
   ]
  },
  {
   "cell_type": "code",
   "execution_count": null,
   "metadata": {},
   "outputs": [],
   "source": []
  },
  {
   "cell_type": "code",
   "execution_count": null,
   "metadata": {},
   "outputs": [],
   "source": []
  },
  {
   "cell_type": "code",
   "execution_count": null,
   "metadata": {},
   "outputs": [],
   "source": []
  }
 ],
 "metadata": {
  "kernelspec": {
   "display_name": "Python 3",
   "language": "python",
   "name": "python3"
  },
  "language_info": {
   "codemirror_mode": {
    "name": "ipython",
    "version": 3
   },
   "file_extension": ".py",
   "mimetype": "text/x-python",
   "name": "python",
   "nbconvert_exporter": "python",
   "pygments_lexer": "ipython3",
   "version": "3.7.0"
  }
 },
 "nbformat": 4,
 "nbformat_minor": 4
}
