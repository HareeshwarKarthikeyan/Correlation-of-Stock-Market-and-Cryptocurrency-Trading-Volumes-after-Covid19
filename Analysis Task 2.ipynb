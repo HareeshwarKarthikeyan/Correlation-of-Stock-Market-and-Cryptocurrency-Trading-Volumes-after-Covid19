{
 "cells": [
  {
   "cell_type": "code",
   "execution_count": null,
   "metadata": {},
   "outputs": [],
   "source": [
    "# ANALYSIS TASK 2\n",
    "# How similar is the directional nature (positive and negative) of the changes in the price and volume in the markets before and after covid hit?"
   ]
  },
  {
   "cell_type": "code",
   "execution_count": 11,
   "metadata": {},
   "outputs": [
    {
     "name": "stdout",
     "output_type": "stream",
     "text": [
      "+----------+-------------------+------------------+-------------------+------------------+--------------------+-------------------+-------------------+-------------------+\n",
      "|       _c0|                _c1|               _c2|                _c3|               _c4|                 _c5|                _c6|                _c7|                _c8|\n",
      "+----------+-------------------+------------------+-------------------+------------------+--------------------+-------------------+-------------------+-------------------+\n",
      "|02-07-2018|  5.121125072620959| 9.193665598572519|-1.4197329157191518|               0.0|   -6.92142945367664|                0.0|-1.3828243249559322|                0.0|\n",
      "|03-07-2018|-1.7263876931070241|  3.88579704445608|-0.7503701677520215|-34.69465041770667|-0.38754218086889713|-31.618496889332604|-1.4233110883018818| -32.83890509077797|\n",
      "|05-07-2018|-0.7984669906309387| 5.925269446030441| 1.2241598859767095| 70.59531435527903|  0.9503111182226929|  58.35068850659227|  1.615999192251064|  77.31397164561653|\n",
      "|06-07-2018|-0.6435487855691865|-12.91041562423435|  1.745983843588868| 25.99901405601902|  1.0062455628507367| 27.340063807157787| 1.5456087189055587|-6.8313403065421054|\n",
      "|09-07-2018| -1.453540445159325|-5.414889467143977| 0.7354070539389318| 13.00388006337085|  0.8477661177601469| 15.089087671577163| 0.7502420195560021|  8.630149015982997|\n",
      "+----------+-------------------+------------------+-------------------+------------------+--------------------+-------------------+-------------------+-------------------+\n",
      "only showing top 5 rows\n",
      "\n"
     ]
    }
   ],
   "source": [
    "from pyspark import SparkContext\n",
    "from pyspark.sql import SQLContext\n",
    "sc = SparkContext.getOrCreate()\n",
    "sqlContext = SQLContext(sc)\n",
    "data_main = sqlContext.read.csv('data.csv',header=False)\n",
    "data_main.show(5)\n",
    "# Order of columns\n",
    "# 'DATE', 'C_PCP', 'C_TMVCP', 'N_PCP', 'N_TMVCP', 'SP_PCP', 'SP_TMVCP', 'NT_PCP', 'NT_TMVCP'"
   ]
  },
  {
   "cell_type": "code",
   "execution_count": 12,
   "metadata": {},
   "outputs": [],
   "source": [
    "data_main = data_main.rdd.map(lambda x: (x[0],float(x[1]),float(x[2]),float(x[3]),float(x[4]),float(x[5]),float(x[6]),float(x[7]),float(x[8])) )"
   ]
  },
  {
   "cell_type": "code",
   "execution_count": 26,
   "metadata": {},
   "outputs": [
    {
     "data": {
      "text/plain": [
       "377"
      ]
     },
     "execution_count": 26,
     "metadata": {},
     "output_type": "execute_result"
    }
   ],
   "source": [
    "# Before covid\n",
    "from datetime import datetime\n",
    "def reformat_date(date_time_str):\n",
    "    dateitem = datetime.strptime(date_time_str, '%d-%m-%Y')\n",
    "    return dateitem\n",
    "date = datetime.strptime('31-12-2019', '%d-%m-%Y')\n",
    "data1 = data_main.filter(lambda x: reformat_date(x[0])<date)\n",
    "data1.count()"
   ]
  },
  {
   "cell_type": "code",
   "execution_count": 27,
   "metadata": {},
   "outputs": [
    {
     "name": "stdout",
     "output_type": "stream",
     "text": [
      "Comparing daily avg price change percentage across the indices\n",
      "Crypto vs Nasdaq100\n",
      "                 nasdaq100_positive  nasdaq100_negative\n",
      "crypto_positive                 112                  72\n",
      "crypto_negative                  90                 103\n",
      "Percentage of records having the same direction of price change: 57.02917771883289\n",
      "Crypto vs S&P100\n",
      "                 s&p100_positive  s&p100_negative\n",
      "crypto_positive              111               73\n",
      "crypto_negative              100               93\n",
      "Percentage of records having the same direction of price change: 54.11140583554376\n",
      "Crypto vs Nasdaq100Tech\n",
      "                 nasdaq100Tech_positive  nasdaq100Tech_negative\n",
      "crypto_positive                     111                      73\n",
      "crypto_negative                      97                      96\n",
      "Percentage of records having the same direction of price change: 54.90716180371353\n"
     ]
    }
   ],
   "source": [
    "data_df = data1.toDF(('DATE', 'C_PCP', 'C_TMVCP', 'N_PCP', 'N_TMVCP', 'SP_PCP', 'SP_TMVCP', 'NT_PCP', 'NT_TMVCP'))\n",
    "print('Comparing daily avg price change percentage across the indices')\n",
    "print('Crypto vs Nasdaq100')\n",
    "pp = data_df.rdd.filter(lambda x: (x[1]>0 and x[3]>0) or (x[1]==0 and x[3]==0)).count()\n",
    "nn = data_df.rdd.filter(lambda x: (x[1]<0 and x[3]<0)).count()\n",
    "pn = data_df.rdd.filter(lambda x: (x[1]>0 and x[3]<0)).count()\n",
    "np = data_df.rdd.filter(lambda x: (x[1]<0 and x[3]>0)).count()\n",
    "import pandas as pd\n",
    "data = [[pp,pn],[np,nn]]\n",
    "columns = ['nasdaq100_positive','nasdaq100_negative']\n",
    "indices = ['crypto_positive','crypto_negative']\n",
    "df = pd.DataFrame(data,indices,columns)\n",
    "print(df)\n",
    "print('Percentage of records having the same direction of price change: ' + str(100*(pp+nn)/(pp+pn+np+nn)))\n",
    "print('Crypto vs S&P100')\n",
    "pp = data_df.rdd.filter(lambda x: (x[1]>0 and x[5]>0) or (x[1]==0 and x[5]==0)).count()\n",
    "nn = data_df.rdd.filter(lambda x: (x[1]<0 and x[5]<0)).count()\n",
    "pn = data_df.rdd.filter(lambda x: (x[1]>0 and x[5]<0)).count()\n",
    "np = data_df.rdd.filter(lambda x: (x[1]<0 and x[5]>0)).count()\n",
    "import pandas as pd\n",
    "data = [[pp,pn],[np,nn]]\n",
    "columns = ['s&p100_positive','s&p100_negative']\n",
    "indices = ['crypto_positive','crypto_negative']\n",
    "df = pd.DataFrame(data,indices,columns)\n",
    "print(df)\n",
    "print('Percentage of records having the same direction of price change: ' + str(100*(pp+nn)/(pp+pn+np+nn)))\n",
    "print('Crypto vs Nasdaq100Tech')\n",
    "pp = data_df.rdd.filter(lambda x: (x[1]>0 and x[7]>0) or (x[1]==0 and x[7]==0)).count()\n",
    "nn = data_df.rdd.filter(lambda x: (x[1]<0 and x[7]<0)).count()\n",
    "pn = data_df.rdd.filter(lambda x: (x[1]>0 and x[7]<0)).count()\n",
    "np = data_df.rdd.filter(lambda x: (x[1]<0 and x[7]>0)).count()\n",
    "import pandas as pd\n",
    "data = [[pp,pn],[np,nn]]\n",
    "columns = ['nasdaq100Tech_positive','nasdaq100Tech_negative']\n",
    "indices = ['crypto_positive','crypto_negative']\n",
    "df = pd.DataFrame(data,indices,columns)\n",
    "print(df)\n",
    "print('Percentage of records having the same direction of price change: ' + str(100*(pp+nn)/(pp+pn+np+nn)))"
   ]
  },
  {
   "cell_type": "code",
   "execution_count": 28,
   "metadata": {},
   "outputs": [
    {
     "name": "stdout",
     "output_type": "stream",
     "text": [
      "Comparing daily avg traded monetary volume change percentage across the indices\n",
      "Crypto vs Nasdaq100\n",
      "                 nasdaq100_positive  nasdaq100_negative\n",
      "crypto_positive                 146                  65\n",
      "crypto_negative                 110                  55\n",
      "Percentage of records having the same direction of tmv change: 53.45744680851064\n",
      "Crypto vs S&P100\n",
      "                 s&p100_positive  s&p100_negative\n",
      "crypto_positive              132               79\n",
      "crypto_negative               94               71\n",
      "Percentage of records having the same direction of tmv change: 53.98936170212766\n",
      "Crypto vs Nasdaq100Tech\n",
      "                 nasdaq100Tech_positive  nasdaq100Tech_negative\n",
      "crypto_positive                     125                      86\n",
      "crypto_negative                      94                      71\n",
      "Percentage of records having the same direction of tmv change: 52.12765957446808\n"
     ]
    }
   ],
   "source": [
    "print('Comparing daily avg traded monetary volume change percentage across the indices')\n",
    "print('Crypto vs Nasdaq100')\n",
    "pp = data_df.rdd.filter(lambda x: (x[2]>0 and x[4]>0) or (x[2]==0 and x[4]==0)).count()\n",
    "nn = data_df.rdd.filter(lambda x: (x[2]<0 and x[4]<0)).count()\n",
    "pn = data_df.rdd.filter(lambda x: (x[2]>0 and x[4]<0)).count()\n",
    "np = data_df.rdd.filter(lambda x: (x[2]<0 and x[4]>0)).count()\n",
    "import pandas as pd\n",
    "data = [[pp,pn],[np,nn]]\n",
    "columns = ['nasdaq100_positive','nasdaq100_negative']\n",
    "indices = ['crypto_positive','crypto_negative']\n",
    "df = pd.DataFrame(data,indices,columns)\n",
    "print(df)\n",
    "print('Percentage of records having the same direction of tmv change: ' + str(100*(pp+nn)/(pp+pn+np+nn)))\n",
    "print('Crypto vs S&P100')\n",
    "pp = data_df.rdd.filter(lambda x: (x[2]>0 and x[6]>0) or (x[2]==0 and x[6]==0)).count()\n",
    "nn = data_df.rdd.filter(lambda x: (x[2]<0 and x[6]<0)).count()\n",
    "pn = data_df.rdd.filter(lambda x: (x[2]>0 and x[6]<0)).count()\n",
    "np = data_df.rdd.filter(lambda x: (x[2]<0 and x[6]>0)).count()\n",
    "import pandas as pd\n",
    "data = [[pp,pn],[np,nn]]\n",
    "columns = ['s&p100_positive','s&p100_negative']\n",
    "indices = ['crypto_positive','crypto_negative']\n",
    "df = pd.DataFrame(data,indices,columns)\n",
    "print(df)\n",
    "print('Percentage of records having the same direction of tmv change: ' + str(100*(pp+nn)/(pp+pn+np+nn)))\n",
    "print('Crypto vs Nasdaq100Tech')\n",
    "pp = data_df.rdd.filter(lambda x: (x[2]>0 and x[8]>0) or (x[2]==0 and x[8]==0)).count()\n",
    "nn = data_df.rdd.filter(lambda x: (x[2]<0 and x[8]<0)).count()\n",
    "pn = data_df.rdd.filter(lambda x: (x[2]>0 and x[8]<0)).count()\n",
    "np = data_df.rdd.filter(lambda x: (x[2]<0 and x[8]>0)).count()\n",
    "import pandas as pd\n",
    "data = [[pp,pn],[np,nn]]\n",
    "columns = ['nasdaq100Tech_positive','nasdaq100Tech_negative']\n",
    "indices = ['crypto_positive','crypto_negative']\n",
    "df = pd.DataFrame(data,indices,columns)\n",
    "print(df)\n",
    "print('Percentage of records having the same direction of tmv change: ' + str(100*(pp+nn)/(pp+pn+np+nn)))"
   ]
  },
  {
   "cell_type": "code",
   "execution_count": 29,
   "metadata": {},
   "outputs": [
    {
     "data": {
      "text/plain": [
       "377"
      ]
     },
     "execution_count": 29,
     "metadata": {},
     "output_type": "execute_result"
    }
   ],
   "source": [
    "# After covid\n",
    "date = datetime.strptime('31-12-2019', '%d-%m-%Y')\n",
    "data2 = data_main.filter(lambda x: reformat_date(x[0])>=date)\n",
    "data2.count()"
   ]
  },
  {
   "cell_type": "code",
   "execution_count": 31,
   "metadata": {},
   "outputs": [
    {
     "name": "stdout",
     "output_type": "stream",
     "text": [
      "Comparing daily avg price change percentage across the indices\n",
      "Crypto vs Nasdaq100\n",
      "                 nasdaq100_positive  nasdaq100_negative\n",
      "crypto_positive                 140                  81\n",
      "crypto_negative                  80                  76\n",
      "Percentage of records having the same direction of price change: 57.294429708222815\n",
      "Crypto vs S&P100\n",
      "                 s&p100_positive  s&p100_negative\n",
      "crypto_positive              131               90\n",
      "crypto_negative               80               76\n",
      "Percentage of records having the same direction of price change: 54.90716180371353\n",
      "Crypto vs Nasdaq100Tech\n",
      "                 nasdaq100Tech_positive  nasdaq100Tech_negative\n",
      "crypto_positive                     139                      82\n",
      "crypto_negative                      78                      78\n",
      "Percentage of records having the same direction of price change: 57.55968169761273\n"
     ]
    }
   ],
   "source": [
    "data_df = data2.toDF(('DATE', 'C_PCP', 'C_TMVCP', 'N_PCP', 'N_TMVCP', 'SP_PCP', 'SP_TMVCP', 'NT_PCP', 'NT_TMVCP'))\n",
    "print('Comparing daily avg price change percentage across the indices')\n",
    "print('Crypto vs Nasdaq100')\n",
    "pp = data_df.rdd.filter(lambda x: (x[1]>0 and x[3]>0) or (x[1]==0 and x[3]==0)).count()\n",
    "nn = data_df.rdd.filter(lambda x: (x[1]<0 and x[3]<0)).count()\n",
    "pn = data_df.rdd.filter(lambda x: (x[1]>0 and x[3]<0)).count()\n",
    "np = data_df.rdd.filter(lambda x: (x[1]<0 and x[3]>0)).count()\n",
    "import pandas as pd\n",
    "data = [[pp,pn],[np,nn]]\n",
    "columns = ['nasdaq100_positive','nasdaq100_negative']\n",
    "indices = ['crypto_positive','crypto_negative']\n",
    "df = pd.DataFrame(data,indices,columns)\n",
    "print(df)\n",
    "print('Percentage of records having the same direction of price change: ' + str(100*(pp+nn)/(pp+pn+np+nn)))\n",
    "print('Crypto vs S&P100')\n",
    "pp = data_df.rdd.filter(lambda x: (x[1]>0 and x[5]>0) or (x[1]==0 and x[5]==0)).count()\n",
    "nn = data_df.rdd.filter(lambda x: (x[1]<0 and x[5]<0)).count()\n",
    "pn = data_df.rdd.filter(lambda x: (x[1]>0 and x[5]<0)).count()\n",
    "np = data_df.rdd.filter(lambda x: (x[1]<0 and x[5]>0)).count()\n",
    "import pandas as pd\n",
    "data = [[pp,pn],[np,nn]]\n",
    "columns = ['s&p100_positive','s&p100_negative']\n",
    "indices = ['crypto_positive','crypto_negative']\n",
    "df = pd.DataFrame(data,indices,columns)\n",
    "print(df)\n",
    "print('Percentage of records having the same direction of price change: ' + str(100*(pp+nn)/(pp+pn+np+nn)))\n",
    "print('Crypto vs Nasdaq100Tech')\n",
    "pp = data_df.rdd.filter(lambda x: (x[1]>0 and x[7]>0) or (x[1]==0 and x[7]==0)).count()\n",
    "nn = data_df.rdd.filter(lambda x: (x[1]<0 and x[7]<0)).count()\n",
    "pn = data_df.rdd.filter(lambda x: (x[1]>0 and x[7]<0)).count()\n",
    "np = data_df.rdd.filter(lambda x: (x[1]<0 and x[7]>0)).count()\n",
    "import pandas as pd\n",
    "data = [[pp,pn],[np,nn]]\n",
    "columns = ['nasdaq100Tech_positive','nasdaq100Tech_negative']\n",
    "indices = ['crypto_positive','crypto_negative']\n",
    "df = pd.DataFrame(data,indices,columns)\n",
    "print(df)\n",
    "print('Percentage of records having the same direction of price change: ' + str(100*(pp+nn)/(pp+pn+np+nn)))"
   ]
  },
  {
   "cell_type": "code",
   "execution_count": 32,
   "metadata": {},
   "outputs": [
    {
     "name": "stdout",
     "output_type": "stream",
     "text": [
      "Comparing daily avg traded monetary volume change percentage across the indices\n",
      "Crypto vs Nasdaq100\n",
      "                 nasdaq100_positive  nasdaq100_negative\n",
      "crypto_positive                 137                  81\n",
      "crypto_negative                  93                  66\n",
      "Percentage of records having the same direction of tmv change: 53.84615384615385\n",
      "Crypto vs S&P100\n",
      "                 s&p100_positive  s&p100_negative\n",
      "crypto_positive              141               77\n",
      "crypto_negative               86               73\n",
      "Percentage of records having the same direction of tmv change: 56.763925729442974\n",
      "Crypto vs Nasdaq100Tech\n",
      "                 nasdaq100Tech_positive  nasdaq100Tech_negative\n",
      "crypto_positive                     117                     101\n",
      "crypto_negative                      89                      70\n",
      "Percentage of records having the same direction of tmv change: 49.60212201591512\n"
     ]
    }
   ],
   "source": [
    "print('Comparing daily avg traded monetary volume change percentage across the indices')\n",
    "print('Crypto vs Nasdaq100')\n",
    "pp = data_df.rdd.filter(lambda x: (x[2]>0 and x[4]>0) or (x[2]==0 and x[4]==0)).count()\n",
    "nn = data_df.rdd.filter(lambda x: (x[2]<0 and x[4]<0)).count()\n",
    "pn = data_df.rdd.filter(lambda x: (x[2]>0 and x[4]<0)).count()\n",
    "np = data_df.rdd.filter(lambda x: (x[2]<0 and x[4]>0)).count()\n",
    "import pandas as pd\n",
    "data = [[pp,pn],[np,nn]]\n",
    "columns = ['nasdaq100_positive','nasdaq100_negative']\n",
    "indices = ['crypto_positive','crypto_negative']\n",
    "df = pd.DataFrame(data,indices,columns)\n",
    "print(df)\n",
    "print('Percentage of records having the same direction of tmv change: ' + str(100*(pp+nn)/(pp+pn+np+nn)))\n",
    "print('Crypto vs S&P100')\n",
    "pp = data_df.rdd.filter(lambda x: (x[2]>0 and x[6]>0) or (x[2]==0 and x[6]==0)).count()\n",
    "nn = data_df.rdd.filter(lambda x: (x[2]<0 and x[6]<0)).count()\n",
    "pn = data_df.rdd.filter(lambda x: (x[2]>0 and x[6]<0)).count()\n",
    "np = data_df.rdd.filter(lambda x: (x[2]<0 and x[6]>0)).count()\n",
    "import pandas as pd\n",
    "data = [[pp,pn],[np,nn]]\n",
    "columns = ['s&p100_positive','s&p100_negative']\n",
    "indices = ['crypto_positive','crypto_negative']\n",
    "df = pd.DataFrame(data,indices,columns)\n",
    "print(df)\n",
    "print('Percentage of records having the same direction of tmv change: ' + str(100*(pp+nn)/(pp+pn+np+nn)))\n",
    "print('Crypto vs Nasdaq100Tech')\n",
    "pp = data_df.rdd.filter(lambda x: (x[2]>0 and x[8]>0) or (x[2]==0 and x[8]==0)).count()\n",
    "nn = data_df.rdd.filter(lambda x: (x[2]<0 and x[8]<0)).count()\n",
    "pn = data_df.rdd.filter(lambda x: (x[2]>0 and x[8]<0)).count()\n",
    "np = data_df.rdd.filter(lambda x: (x[2]<0 and x[8]>0)).count()\n",
    "import pandas as pd\n",
    "data = [[pp,pn],[np,nn]]\n",
    "columns = ['nasdaq100Tech_positive','nasdaq100Tech_negative']\n",
    "indices = ['crypto_positive','crypto_negative']\n",
    "df = pd.DataFrame(data,indices,columns)\n",
    "print(df)\n",
    "print('Percentage of records having the same direction of tmv change: ' + str(100*(pp+nn)/(pp+pn+np+nn)))"
   ]
  },
  {
   "cell_type": "code",
   "execution_count": null,
   "metadata": {},
   "outputs": [],
   "source": [
    "# no big change after covid\n",
    "# small increases in some\n",
    "# small decreases in some"
   ]
  }
 ],
 "metadata": {
  "kernelspec": {
   "display_name": "Python 3",
   "language": "python",
   "name": "python3"
  },
  "language_info": {
   "codemirror_mode": {
    "name": "ipython",
    "version": 3
   },
   "file_extension": ".py",
   "mimetype": "text/x-python",
   "name": "python",
   "nbconvert_exporter": "python",
   "pygments_lexer": "ipython3",
   "version": "3.7.0"
  }
 },
 "nbformat": 4,
 "nbformat_minor": 4
}
