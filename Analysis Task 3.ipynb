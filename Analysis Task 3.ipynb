{
 "cells": [
  {
   "cell_type": "code",
   "execution_count": null,
   "metadata": {},
   "outputs": [],
   "source": [
    "# ANALYSIS TASK 3\n",
    "#  Is there any correlation in the time series data to see if the crypto trends reflect the stock trends in price and volume changes?"
   ]
  },
  {
   "cell_type": "code",
   "execution_count": 59,
   "metadata": {},
   "outputs": [],
   "source": [
    "from pyspark import SparkContext\n",
    "from pyspark.sql import SQLContext\n",
    "sc = SparkContext.getOrCreate()\n",
    "sqlContext = SQLContext(sc)\n",
    "data_main = sqlContext.read.csv('data.csv',header=False)"
   ]
  },
  {
   "cell_type": "code",
   "execution_count": 60,
   "metadata": {},
   "outputs": [
    {
     "name": "stdout",
     "output_type": "stream",
     "text": [
      "+---+----------+-------------------+------------------+-------------------+------------------+--------------------+-------------------+-------------------+-------------------+\n",
      "| _1|        _2|                 _3|                _4|                 _5|                _6|                  _7|                 _8|                 _9|                _10|\n",
      "+---+----------+-------------------+------------------+-------------------+------------------+--------------------+-------------------+-------------------+-------------------+\n",
      "|  0|02-07-2018|  5.121125072620959| 9.193665598572519|-1.4197329157191518|               0.0|   -6.92142945367664|                0.0|-1.3828243249559322|                0.0|\n",
      "|  1|03-07-2018|-1.7263876931070241|  3.88579704445608|-0.7503701677520215|-34.69465041770667|-0.38754218086889713|-31.618496889332604|-1.4233110883018818| -32.83890509077797|\n",
      "|  2|05-07-2018|-0.7984669906309387| 5.925269446030441| 1.2241598859767095| 70.59531435527903|  0.9503111182226929|  58.35068850659227|  1.615999192251064|  77.31397164561653|\n",
      "|  3|06-07-2018|-0.6435487855691865|-12.91041562423435|  1.745983843588868| 25.99901405601902|  1.0062455628507367| 27.340063807157787| 1.5456087189055587|-6.8313403065421054|\n",
      "|  4|09-07-2018| -1.453540445159325|-5.414889467143977| 0.7354070539389318| 13.00388006337085|  0.8477661177601469| 15.089087671577163| 0.7502420195560021|  8.630149015982997|\n",
      "+---+----------+-------------------+------------------+-------------------+------------------+--------------------+-------------------+-------------------+-------------------+\n",
      "only showing top 5 rows\n",
      "\n"
     ]
    }
   ],
   "source": [
    "# Adding an index column\n",
    "dates = data_main.rdd.map(lambda x: x[0]).collect()\n",
    "# Order of columns\n",
    "# 'INDEX','DATE', 'C_PCP', 'C_TMVCP', 'N_PCP', 'N_TMVCP', 'SP_PCP', 'SP_TMVCP', 'NT_PCP', 'NT_TMVCP'\n",
    "data_main = data_main.rdd.map(lambda x: (dates.index(x[0]),x[0],float(x[1]),float(x[2]),float(x[3]),float(x[4]),float(x[5]),float(x[6]),float(x[7]),float(x[8])) )\n",
    "data_main.toDF().show(5)"
   ]
  },
  {
   "cell_type": "code",
   "execution_count": 61,
   "metadata": {},
   "outputs": [
    {
     "name": "stdout",
     "output_type": "stream",
     "text": [
      "377\n"
     ]
    }
   ],
   "source": [
    "# before covid\n",
    "data = data_main.map(lambda x: (x[0],x[1],x[4],x[2]))\n",
    "# Before covid\n",
    "from datetime import datetime\n",
    "def reformat_date(date_time_str):\n",
    "    dateitem = datetime.strptime(date_time_str, '%d-%m-%Y')\n",
    "    return dateitem\n",
    "date = datetime.strptime('31-12-2019', '%d-%m-%Y')\n",
    "data = data.filter(lambda x: reformat_date(x[1])<date)\n",
    "print(data.count())\n",
    "data_df = data.toDF(('INDEX','DATE','N_PCP','C_PCP'))\n",
    "data_df.registerTempTable('TABLE')"
   ]
  },
  {
   "cell_type": "code",
   "execution_count": 52,
   "metadata": {},
   "outputs": [],
   "source": [
    "# cross correlation - time lagged\n",
    "from pyspark.sql import functions as F\n",
    "from pyspark.sql.window import Window\n",
    "\n",
    "# price change percent\n",
    "# crypto and nasdaq100\n",
    "# we are trying to study the effect of N_PCP change trends on C_PCP change trends\n",
    "# creating time lagged values for C_PCP for upto 30 days\n",
    "for i in range(1,31):\n",
    "    window = Window.orderBy(\"Index\")\n",
    "    leadCol = F.lead(\"C_PCP\", i).over(window)\n",
    "    data_dfx = data_df.withColumn(\"C_PCP+\"+str(i), leadCol)\n",
    "    data_dfx.registerTempTable('DATA')"
   ]
  },
  {
   "cell_type": "code",
   "execution_count": null,
   "metadata": {},
   "outputs": [],
   "source": []
  },
  {
   "cell_type": "code",
   "execution_count": null,
   "metadata": {},
   "outputs": [],
   "source": []
  },
  {
   "cell_type": "code",
   "execution_count": null,
   "metadata": {},
   "outputs": [],
   "source": []
  }
 ],
 "metadata": {
  "kernelspec": {
   "display_name": "Python 3",
   "language": "python",
   "name": "python3"
  },
  "language_info": {
   "codemirror_mode": {
    "name": "ipython",
    "version": 3
   },
   "file_extension": ".py",
   "mimetype": "text/x-python",
   "name": "python",
   "nbconvert_exporter": "python",
   "pygments_lexer": "ipython3",
   "version": "3.7.0"
  }
 },
 "nbformat": 4,
 "nbformat_minor": 4
}
